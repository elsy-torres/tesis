{
  "nbformat": 4,
  "nbformat_minor": 0,
  "metadata": {
    "colab": {
      "name": "Untitled12.ipynb",
      "provenance": [],
      "authorship_tag": "ABX9TyMhqL5uyVDlYZXARmmxe27z",
      "include_colab_link": true
    },
    "kernelspec": {
      "name": "python3",
      "display_name": "Python 3"
    }
  },
  "cells": [
    {
      "cell_type": "markdown",
      "metadata": {
        "id": "view-in-github",
        "colab_type": "text"
      },
      "source": [
        "<a href=\"https://colab.research.google.com/github/elsy-torres/tesis/blob/main/class-02.ipynb\" target=\"_parent\"><img src=\"https://colab.research.google.com/assets/colab-badge.svg\" alt=\"Open In Colab\"/></a>"
      ]
    },
    {
      "cell_type": "markdown",
      "metadata": {
        "id": "vxW2wP1_X0Vq"
      },
      "source": [
        "Clase de python"
      ]
    },
    {
      "cell_type": "code",
      "metadata": {
        "id": "_aMBPjeJYuoL"
      },
      "source": [
        "import numpy as np"
      ],
      "execution_count": 2,
      "outputs": []
    },
    {
      "cell_type": "code",
      "metadata": {
        "id": "I-lQo_80Xrga"
      },
      "source": [
        "lista = [3,6,7,4,7]"
      ],
      "execution_count": 10,
      "outputs": []
    },
    {
      "cell_type": "code",
      "metadata": {
        "colab": {
          "base_uri": "https://localhost:8080/"
        },
        "id": "9_Wq8hMcYflA",
        "outputId": "1f72fe86-ee9f-48fe-ec8c-4b11b700324e"
      },
      "source": [
        "lista.sort()\r\n",
        "print(lista)"
      ],
      "execution_count": 11,
      "outputs": [
        {
          "output_type": "stream",
          "text": [
            "[3, 4, 6, 7, 7]\n"
          ],
          "name": "stdout"
        }
      ]
    },
    {
      "cell_type": "code",
      "metadata": {
        "colab": {
          "base_uri": "https://localhost:8080/"
        },
        "id": "yCHCGjR6ZQpG",
        "outputId": "e69cbd2b-1434-4015-c3e3-3d4c83a37883"
      },
      "source": [
        "numeros = [2,3,4,5]\r\n",
        "for n in numeros:\r\n",
        "  m=n**2\r\n",
        "  print(m) # este print imprime dentro de cada iteraccion\r\n"
      ],
      "execution_count": 14,
      "outputs": [
        {
          "output_type": "stream",
          "text": [
            "4\n",
            "9\n",
            "16\n",
            "25\n"
          ],
          "name": "stdout"
        }
      ]
    },
    {
      "cell_type": "code",
      "metadata": {
        "colab": {
          "base_uri": "https://localhost:8080/"
        },
        "id": "TWNrbX2fabJ2",
        "outputId": "af7e6015-67be-4210-b7bc-bb72273eca18"
      },
      "source": [
        "NUMEROS = [2,3,4,5]\r\n",
        "for i in NUMEROS:\r\n",
        "  j=n**2\r\n",
        "\r\n",
        "print(j) # este primer se imprime al final de la iteraccion\r\n"
      ],
      "execution_count": 13,
      "outputs": [
        {
          "output_type": "stream",
          "text": [
            "25\n"
          ],
          "name": "stdout"
        }
      ]
    },
    {
      "cell_type": "code",
      "metadata": {
        "colab": {
          "base_uri": "https://localhost:8080/"
        },
        "id": "-TqY8KPyYsdf",
        "outputId": "1fb68ddf-2c10-4000-f47a-aa275ea1bfa9"
      },
      "source": [
        "suma=0\r\n",
        "for i in range(10,20):\r\n",
        "  #le añadimos un 1 a i para sumar\r\n",
        "  suma= suma + (i+1)\r\n",
        "\r\n",
        "print(suma)"
      ],
      "execution_count": 22,
      "outputs": [
        {
          "output_type": "stream",
          "text": [
            "155\n"
          ],
          "name": "stdout"
        }
      ]
    },
    {
      "cell_type": "code",
      "metadata": {
        "colab": {
          "base_uri": "https://localhost:8080/"
        },
        "id": "h7dWUL7rb37e",
        "outputId": "83445a3f-c62a-4d25-a2ff-bde88d7f4d73"
      },
      "source": [
        "suma=0\r\n",
        "for i in range(10,20,1): #incrementos de n paso es el último valor\r\n",
        "  #le añadimos un 1 a i para sumar\r\n",
        "  suma+= (i+1) # suma acumulativa\r\n",
        "\r\n",
        "print(suma)"
      ],
      "execution_count": 20,
      "outputs": [
        {
          "output_type": "stream",
          "text": [
            "155\n"
          ],
          "name": "stdout"
        }
      ]
    },
    {
      "cell_type": "code",
      "metadata": {
        "colab": {
          "base_uri": "https://localhost:8080/"
        },
        "id": "xn7LydPldFNu",
        "outputId": "e8454428-8578-43d0-8dd0-682f173f36b2"
      },
      "source": [
        "pares = [2*i for i in range(5)] #listening comprehension\r\n",
        "print(pares)"
      ],
      "execution_count": 23,
      "outputs": [
        {
          "output_type": "stream",
          "text": [
            "[0, 2, 4, 6, 8]\n"
          ],
          "name": "stdout"
        }
      ]
    },
    {
      "cell_type": "code",
      "metadata": {
        "colab": {
          "base_uri": "https://localhost:8080/"
        },
        "id": "mCEv9CvMddTt",
        "outputId": "f51bdb72-2991-4543-a771-f9edaa67a7d1"
      },
      "source": [
        "temp = [30.3, 20.1, 46.5, 34.1, 42.3]\r\n",
        "temp_c = []\r\n",
        "for n in temp:\r\n",
        "   temp_c.append( (5/9)*(n-32))\r\n",
        "   \r\n",
        "\r\n",
        "print(temp_c)"
      ],
      "execution_count": 42,
      "outputs": [
        {
          "output_type": "stream",
          "text": [
            "[-0.9444444444444441, -6.611111111111111, 8.055555555555555, 1.1666666666666674, 5.7222222222222205]\n"
          ],
          "name": "stdout"
        }
      ]
    },
    {
      "cell_type": "code",
      "metadata": {
        "id": "am_nmTQvhvol"
      },
      "source": [
        "temp = [30.3, 20.1, 46.5, 34.1, 42.3]"
      ],
      "execution_count": null,
      "outputs": []
    },
    {
      "cell_type": "code",
      "metadata": {
        "colab": {
          "base_uri": "https://localhost:8080/"
        },
        "id": "EFNfxC6_hrVl",
        "outputId": "71c2e34a-7b28-47d9-b2d9-c9063ac8127d"
      },
      "source": [
        "pares = [(5/9*(i-32)) for i in temp] #listening comprehension\r\n",
        "print(pares)"
      ],
      "execution_count": 43,
      "outputs": [
        {
          "output_type": "stream",
          "text": [
            "[-0.9444444444444441, -6.611111111111111, 8.055555555555555, 1.1666666666666674, 5.7222222222222205]\n"
          ],
          "name": "stdout"
        }
      ]
    }
  ]
}